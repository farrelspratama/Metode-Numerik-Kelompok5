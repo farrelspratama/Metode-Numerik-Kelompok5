{
  "nbformat": 4,
  "nbformat_minor": 0,
  "metadata": {
    "colab": {
      "provenance": []
    },
    "kernelspec": {
      "name": "python3",
      "display_name": "Python 3"
    },
    "language_info": {
      "name": "python"
    }
  },
  "cells": [
    {
      "cell_type": "markdown",
      "source": [
        "# Cara 1"
      ],
      "metadata": {
        "id": "jrxBZdKdu-H6"
      }
    },
    {
      "cell_type": "code",
      "source": [
        "#Menginisialisai fungsi untuk menghitung f(xi), f'(xi), xi, dan e\n",
        "def newton_raphson(f, df, xi, e):\n",
        "    print(\"Nilai xi: \", xi)\n",
        "    if abs(f(xi)) < e:\n",
        "        return xi\n",
        "    else:\n",
        "        xi = xi - f(xi)/df(xi)\n",
        "        return newton_raphson(f, df, xi, e)\n",
        "\n",
        "#Meminta user untuk memasukkan fungsi f(x) dan f'(x) sebagai string\n",
        "fx_str = input(\"Masukkan fungsi f(x) sebagai string (contoh: 'x**2 + 3*x - 108'): \")\n",
        "f_prime_str = input(\"Masukkan fungsi turunan pertama f'(x) sebagai string (contoh: '2*x + 3'): \")\n",
        "\n",
        "#Membuat fungsi dari string input user\n",
        "fx = lambda x: eval(fx_str)\n",
        "f_prime = lambda x: eval(f_prime_str)\n",
        "\n",
        "#Meminta user untuk memasukkan nilai aproksimasi awal\n",
        "n = float(input(\"Masukkan Nilai Aproksimasi Awal: \"))\n",
        "\n",
        "#Pemanggilan fungsi Newton Raphson\n",
        "estimate = newton_raphson(fx, f_prime, n, 1e-3)\n",
        "print (\"estimate = %.3f\" % estimate)"
      ],
      "metadata": {
        "id": "12VA0i8vvEAh",
        "outputId": "3e06b434-ca90-4f69-85b3-477a6aac6063",
        "colab": {
          "base_uri": "https://localhost:8080/"
        }
      },
      "execution_count": 8,
      "outputs": [
        {
          "output_type": "stream",
          "name": "stdout",
          "text": [
            "Masukkan fungsi f(x) sebagai string (contoh: 'x**2 + 3*x - 108'): x**2 + 3*x - 108\n",
            "Masukkan fungsi turunan pertama f'(x) sebagai string (contoh: '2*x + 3'): 2*x + 3\n",
            "Masukkan Nilai Aproksimasi Awal: 1\n",
            "Nilai xi:  1.0\n",
            "Nilai xi:  21.8\n",
            "Nilai xi:  12.515879828326181\n",
            "Nilai xi:  9.44097877260079\n",
            "Nilai xi:  9.008886877578608\n",
            "Nilai xi:  9.000003757609822\n",
            "estimate = 9.000\n"
          ]
        }
      ]
    },
    {
      "cell_type": "markdown",
      "source": [
        "# Cara 2"
      ],
      "metadata": {
        "id": "D6n93aJ6v1o8"
      }
    },
    {
      "cell_type": "code",
      "source": [
        "import sympy as sp\n",
        "\n",
        "# Meminta pengguna untuk memasukkan fungsi f(x) dan g(x) sebagai string\n",
        "fx_str = input(\"Masukkan fungsi f(x) sebagai string (contoh: 'x**2 - 2*x - 8'): \")\n",
        "gx_str = input(\"Masukkan fungsi g(x) sebagai string (contoh: '2*x - 2'): \")\n",
        "\n",
        "# Membuat simbol-simbol\n",
        "x = sp.symbols('x')\n",
        "fx = sp.sympify(fx_str)\n",
        "gx = sp.sympify(gx_str)\n",
        "\n",
        "# Mendefinisikan fungsi f(x) dan g(x) dari string input pengguna\n",
        "f = sp.lambdify(x, fx, 'numpy')\n",
        "g = sp.lambdify(x, gx, 'numpy')\n",
        "\n",
        "# Mendefinisikan fungsi metode newtonRaphson\n",
        "def newtonRaphson(x0,e,N):\n",
        "    step = 1\n",
        "    flag = 1\n",
        "    condition = True\n",
        "    while condition:\n",
        "        if g(x0) == 0.0:\n",
        "            print('dibagi 0 error')\n",
        "            break\n",
        "        #loop iterasi\n",
        "        x1 = x0 - f(x0)/g(x0)\n",
        "        print('Iterasi-%d, x1 = %0.6f dan f(x1) = %0.6f' % (step, x1, f(x1)))\n",
        "        x0 = x1\n",
        "        step = step + 1\n",
        "\n",
        "        if step > N:\n",
        "            flag = 0\n",
        "            break\n",
        "\n",
        "        condition = abs(f(x1)) > e\n",
        "\n",
        "    if flag==1:\n",
        "        print('\\nakar yang dibutuhkan : %0.8f' % x1)\n",
        "    else:\n",
        "        print('\\ntidak konvergen')\n",
        "\n",
        "# convert inputan ke tipe data float\n",
        "x0 = input('Perkiraan: ')\n",
        "x0 = float(x0)\n",
        "e = input('Perkiraan Error: ')\n",
        "e = float(e)\n",
        "# convert inputan ke tipe data int\n",
        "N = input('Jumlah Step: ')\n",
        "N = int(N)\n",
        "\n",
        "newtonRaphson(x0,e,N)\n"
      ],
      "metadata": {
        "id": "fl5pNgMZv5xT"
      },
      "execution_count": null,
      "outputs": []
    }
  ]
}